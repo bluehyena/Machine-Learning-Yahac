{
 "cells": [
  {
   "cell_type": "code",
   "execution_count": 2,
   "metadata": {},
   "outputs": [],
   "source": [
    "import tensorflow as tf\n",
    "import pandas as pd"
   ]
  },
  {
   "cell_type": "code",
   "execution_count": 3,
   "metadata": {},
   "outputs": [
    {
     "data": {
      "text/html": [
       "<div>\n",
       "<style scoped>\n",
       "    .dataframe tbody tr th:only-of-type {\n",
       "        vertical-align: middle;\n",
       "    }\n",
       "\n",
       "    .dataframe tbody tr th {\n",
       "        vertical-align: top;\n",
       "    }\n",
       "\n",
       "    .dataframe thead th {\n",
       "        text-align: right;\n",
       "    }\n",
       "</style>\n",
       "<table border=\"1\" class=\"dataframe\">\n",
       "  <thead>\n",
       "    <tr style=\"text-align: right;\">\n",
       "      <th></th>\n",
       "      <th>온도</th>\n",
       "      <th>판매량</th>\n",
       "    </tr>\n",
       "  </thead>\n",
       "  <tbody>\n",
       "    <tr>\n",
       "      <th>0</th>\n",
       "      <td>20</td>\n",
       "      <td>40</td>\n",
       "    </tr>\n",
       "    <tr>\n",
       "      <th>1</th>\n",
       "      <td>21</td>\n",
       "      <td>42</td>\n",
       "    </tr>\n",
       "    <tr>\n",
       "      <th>2</th>\n",
       "      <td>22</td>\n",
       "      <td>44</td>\n",
       "    </tr>\n",
       "    <tr>\n",
       "      <th>3</th>\n",
       "      <td>23</td>\n",
       "      <td>46</td>\n",
       "    </tr>\n",
       "    <tr>\n",
       "      <th>4</th>\n",
       "      <td>24</td>\n",
       "      <td>48</td>\n",
       "    </tr>\n",
       "  </tbody>\n",
       "</table>\n",
       "</div>"
      ],
      "text/plain": [
       "   온도  판매량\n",
       "0  20   40\n",
       "1  21   42\n",
       "2  22   44\n",
       "3  23   46\n",
       "4  24   48"
      ]
     },
     "execution_count": 3,
     "metadata": {},
     "output_type": "execute_result"
    }
   ],
   "source": [
    "filePath = 'https://raw.githubusercontent.com/bluehyena/Machine-Learning-Yahac/main/Chapter2/csv/lemonade.csv'\n",
    "data = pd.read_csv(filePath)\n",
    "data.head()"
   ]
  },
  {
   "cell_type": "code",
   "execution_count": 4,
   "metadata": {},
   "outputs": [
    {
     "name": "stdout",
     "output_type": "stream",
     "text": [
      "(6, 1) (6, 1)\n"
     ]
    }
   ],
   "source": [
    "# 종속 변수, 독립 변수\n",
    "dep = data[['온도']]\n",
    "indep = data[['판매량']]\n",
    "print(dep.shape, indep.shape)"
   ]
  },
  {
   "cell_type": "code",
   "execution_count": 6,
   "metadata": {},
   "outputs": [],
   "source": [
    "# Model 만들기\n",
    "\n",
    "X = tf.keras.layers.Input(shape=[1])\n",
    "Y = tf.keras.layers.Dense(1)(X)\n",
    "model = tf.keras.models.Model(X, Y)\n",
    "model.compile(loss='mse')"
   ]
  },
  {
   "cell_type": "code",
   "execution_count": 7,
   "metadata": {},
   "outputs": [
    {
     "name": "stdout",
     "output_type": "stream",
     "text": [
      "Epoch 1/10\n",
      "1/1 [==============================] - 0s 346ms/step - loss: 5713.9038\n",
      "Epoch 2/10\n",
      "1/1 [==============================] - 0s 2ms/step - loss: 5702.6450\n",
      "Epoch 3/10\n",
      "1/1 [==============================] - 0s 3ms/step - loss: 5694.4883\n",
      "Epoch 4/10\n",
      "1/1 [==============================] - 0s 3ms/step - loss: 5687.6636\n",
      "Epoch 5/10\n",
      "1/1 [==============================] - 0s 3ms/step - loss: 5681.6108\n",
      "Epoch 6/10\n",
      "1/1 [==============================] - 0s 3ms/step - loss: 5676.0679\n",
      "Epoch 7/10\n",
      "1/1 [==============================] - 0s 3ms/step - loss: 5670.8892\n",
      "Epoch 8/10\n",
      "1/1 [==============================] - 0s 3ms/step - loss: 5665.9839\n",
      "Epoch 9/10\n",
      "1/1 [==============================] - 0s 3ms/step - loss: 5661.2915\n",
      "Epoch 10/10\n",
      "1/1 [==============================] - 0s 3ms/step - loss: 5656.7695\n"
     ]
    },
    {
     "data": {
      "text/plain": [
       "<tensorflow.python.keras.callbacks.History at 0x20662874a00>"
      ]
     },
     "execution_count": 7,
     "metadata": {},
     "output_type": "execute_result"
    }
   ],
   "source": [
    "# Modle 학습시키기\n",
    "model.fit(dep, indep, epochs=10)"
   ]
  },
  {
   "cell_type": "code",
   "execution_count": 9,
   "metadata": {},
   "outputs": [
    {
     "name": "stdout",
     "output_type": "stream",
     "text": [
      "Epoch 1/10\n",
      "1/1 [==============================] - 0s 3ms/step - loss: 4.7650e-04\n",
      "Epoch 2/10\n",
      "1/1 [==============================] - 0s 2ms/step - loss: 4.7617e-04\n",
      "Epoch 3/10\n",
      "1/1 [==============================] - 0s 2ms/step - loss: 4.7584e-04\n",
      "Epoch 4/10\n",
      "1/1 [==============================] - 0s 2ms/step - loss: 4.7549e-04\n",
      "Epoch 5/10\n",
      "1/1 [==============================] - 0s 2ms/step - loss: 4.7521e-04\n",
      "Epoch 6/10\n",
      "1/1 [==============================] - 0s 3ms/step - loss: 4.7494e-04\n",
      "Epoch 7/10\n",
      "1/1 [==============================] - 0s 2ms/step - loss: 4.7458e-04\n",
      "Epoch 8/10\n",
      "1/1 [==============================] - 0s 2ms/step - loss: 4.7429e-04\n",
      "Epoch 9/10\n",
      "1/1 [==============================] - 0s 2ms/step - loss: 4.7390e-04\n",
      "Epoch 10/10\n",
      "1/1 [==============================] - 0s 2ms/step - loss: 4.7355e-04\n"
     ]
    },
    {
     "data": {
      "text/plain": [
       "<tensorflow.python.keras.callbacks.History at 0x20663c7ab50>"
      ]
     },
     "execution_count": 9,
     "metadata": {},
     "output_type": "execute_result"
    }
   ],
   "source": [
    "model.fit(dep, indep, epochs=10) # verbose = 0 일경우 화면출력 X\n",
    "# loss 가 0.000475로 0에 가까워짐"
   ]
  },
  {
   "cell_type": "code",
   "execution_count": 11,
   "metadata": {},
   "outputs": [
    {
     "data": {
      "text/plain": [
       "array([[40.017544],\n",
       "       [42.006363],\n",
       "       [43.99518 ],\n",
       "       [45.983994],\n",
       "       [47.97281 ],\n",
       "       [49.961624]], dtype=float32)"
      ]
     },
     "execution_count": 11,
     "metadata": {},
     "output_type": "execute_result"
    }
   ],
   "source": [
    "model.predict(dep)"
   ]
  },
  {
   "cell_type": "code",
   "execution_count": 12,
   "metadata": {},
   "outputs": [
    {
     "data": {
      "text/plain": [
       "array([[30.073467]], dtype=float32)"
      ]
     },
     "execution_count": 12,
     "metadata": {},
     "output_type": "execute_result"
    }
   ],
   "source": [
    "model.predict([15])"
   ]
  },
  {
   "cell_type": "code",
   "execution_count": null,
   "metadata": {},
   "outputs": [],
   "source": []
  }
 ],
 "metadata": {
  "kernelspec": {
   "display_name": "Python 3",
   "language": "python",
   "name": "python3"
  },
  "language_info": {
   "codemirror_mode": {
    "name": "ipython",
    "version": 3
   },
   "file_extension": ".py",
   "mimetype": "text/x-python",
   "name": "python",
   "nbconvert_exporter": "python",
   "pygments_lexer": "ipython3",
   "version": "3.8.5"
  }
 },
 "nbformat": 4,
 "nbformat_minor": 4
}
